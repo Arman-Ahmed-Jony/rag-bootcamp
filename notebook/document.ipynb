{
 "cells": [
  {
   "cell_type": "markdown",
   "id": "da35dda0",
   "metadata": {},
   "source": [
    "## Data ingestion"
   ]
  },
  {
   "cell_type": "code",
   "execution_count": 15,
   "id": "0c1031fe",
   "metadata": {},
   "outputs": [],
   "source": [
    "### Document structure\n",
    "\n",
    "from langchain_core.documents import Document"
   ]
  },
  {
   "cell_type": "code",
   "execution_count": 16,
   "id": "9d4a30b3",
   "metadata": {},
   "outputs": [
    {
     "data": {
      "text/plain": [
       "Document(metadata={'source': 'example.pdf', 'page': 1, 'author': 'John Doe', 'date_created': '2021-01-01'}, page_content='Hello, world! this is a test document')"
      ]
     },
     "execution_count": 16,
     "metadata": {},
     "output_type": "execute_result"
    }
   ],
   "source": [
    "doc = Document(\n",
    "    page_content=\"Hello, world! this is a test document\", \n",
    "    metadata={\n",
    "        \"source\": \"example.pdf\", \n",
    "        \"page\": 1, \"author\": \"John Doe\", \n",
    "        'date_created': \"2021-01-01\"\n",
    "    })\n",
    "\n",
    "doc"
   ]
  },
  {
   "cell_type": "code",
   "execution_count": 18,
   "id": "e6e967e8",
   "metadata": {},
   "outputs": [
    {
     "name": "stdout",
     "output_type": "stream",
     "text": [
      "Files created successfully!\n"
     ]
    }
   ],
   "source": [
    "### create a simple text file in data folder\n",
    "\n",
    "import os \n",
    "os.makedirs(\"../data/text_files\", exist_ok=True)\n",
    "\n",
    "sample_texts={\n",
    "    \"../data/text_files/python_intro_text.txt\": \"\"\"Python is a popular, high-level programming language created by Guido van Rossum and first released in 1991. It is known for its simple and readable syntax, which makes it easy for beginners to learn. Python supports multiple programming styles, including procedural, object-oriented, and functional programming.\n",
    "        It is widely used for web development, data analysis, automation, scientific computing, artificial intelligence, and more. Python runs on many platforms like Windows, macOS, and Linux, making it very versatile.\n",
    "        Because Python code is easy to write and read, it is often used for rapid prototyping as well as production software.\"\"\",\n",
    "    \"../data/text_files/python_features_text.txt\": \"Some of the features of Python are: \\n\\n 1. Easy to learn \\n 2. Interactive \\n 3. Dynamically typed \\n 4. Extensible and embeddable \\n 5. Large standard library \\n 6. Extensive support libraries \\n 7. Platform independent \\n 8. Free and open source\"\n",
    "}\n",
    "\n",
    "# open(file_path, \"w\", encoding=\"utf-8\") opens a file for writing:\n",
    "# \"w\" mode creates a new file or overwrites existing content\n",
    "# encoding=\"utf-8\" ensures proper handling of Unicode characters\n",
    "# with statement ensures the file is properly closed after writing\n",
    "# f.write(content) writes the text content to the file\n",
    "\n",
    "for file_path, content in sample_texts.items():\n",
    "    with open(file_path, \"w\", encoding=\"utf-8\") as f:\n",
    "        f.write(content)\n",
    "\n",
    "print('Files created successfully!')\n",
    "        "
   ]
  }
 ],
 "metadata": {
  "kernelspec": {
   "display_name": ".venv",
   "language": "python",
   "name": "python3"
  },
  "language_info": {
   "codemirror_mode": {
    "name": "ipython",
    "version": 3
   },
   "file_extension": ".py",
   "mimetype": "text/x-python",
   "name": "python",
   "nbconvert_exporter": "python",
   "pygments_lexer": "ipython3",
   "version": "3.13.5"
  }
 },
 "nbformat": 4,
 "nbformat_minor": 5
}
